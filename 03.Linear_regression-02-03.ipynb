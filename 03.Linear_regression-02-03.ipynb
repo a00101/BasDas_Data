{
  "nbformat": 4,
  "nbformat_minor": 0,
  "metadata": {
    "colab": {
      "name": "Untitled3.ipynb",
      "provenance": [],
      "authorship_tag": "ABX9TyOadordfcVjdyFBiL13He8f",
      "include_colab_link": true
    },
    "kernelspec": {
      "name": "python3",
      "display_name": "Python 3"
    },
    "language_info": {
      "name": "python"
    }
  },
  "cells": [
    {
      "cell_type": "markdown",
      "metadata": {
        "id": "view-in-github",
        "colab_type": "text"
      },
      "source": [
        "<a href=\"https://colab.research.google.com/github/a00101/BasDas_Data/blob/main/03.Linear_regression-02-03.ipynb\" target=\"_parent\"><img src=\"https://colab.research.google.com/assets/colab-badge.svg\" alt=\"Open In Colab\"/></a>"
      ]
    },
    {
      "cell_type": "markdown",
      "source": [
        "**Autograd - 자동미분**\n",
        "\n",
        "\n",
        "ex) 2w^2 + 5 라는 식을 w에 대해 미분하기\n"
      ],
      "metadata": {
        "id": "W1livT3-dYBR"
      }
    },
    {
      "cell_type": "code",
      "source": [
        "import torch\n",
        "\n",
        "w = torch.tensor(2.0, requires_grad=True) # 값이 2인 스칼라 텐서 w"
      ],
      "metadata": {
        "id": "lNXXoER9dY7s"
      },
      "execution_count": 8,
      "outputs": []
    },
    {
      "cell_type": "code",
      "source": [
        "y = w**2\n",
        "z = 2*y + 5\n",
        "z.backward() # backward()는 해당수식에 대해 기울기를 계산함"
      ],
      "metadata": {
        "id": "az-S2uPcdn42"
      },
      "execution_count": 9,
      "outputs": []
    },
    {
      "cell_type": "code",
      "source": [
        "print('수식을 w로 미분한 값 : {}'.format(w.grad))"
      ],
      "metadata": {
        "id": "3eaYNHPFd4FH",
        "outputId": "0f13efe6-d718-4757-e3b8-ee9f56794183",
        "colab": {
          "base_uri": "https://localhost:8080/"
        }
      },
      "execution_count": 10,
      "outputs": [
        {
          "output_type": "stream",
          "name": "stdout",
          "text": [
            "수식을 w로 미분한 값 : 8.0\n"
          ]
        }
      ]
    },
    {
      "cell_type": "code",
      "source": [
        ""
      ],
      "metadata": {
        "id": "AmgqWpHHeD5H"
      },
      "execution_count": null,
      "outputs": []
    },
    {
      "cell_type": "markdown",
      "source": [
        "**Multivariable Linear regression - 다중 성현 회귀**\n",
        "\n"
      ],
      "metadata": {
        "id": "FtoHdOvheGO8"
      }
    }
  ]
}